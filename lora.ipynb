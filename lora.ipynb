{
  "nbformat": 4,
  "nbformat_minor": 0,
  "metadata": {
    "colab": {
      "provenance": [],
      "last_runtime": {
        "build_target": "//learning/pytorch/colab:kernel",
        "kind": "private"
      }
    },
    "kernelspec": {
      "name": "python3",
      "display_name": "Python 3"
    },
    "language_info": {
      "name": "python"
    }
  },
  "cells": [
    {
      "cell_type": "code",
      "source": [
        "from transformers import AutoTokenizer, AutoConfig\n",
        "\n",
        "# Initialize the tokenizer\n",
        "tokenizer = AutoTokenizer.from_pretrained('tiny-llama-fast-tokenizer')\n"
      ],
      "metadata": {
        "id": "2LCj6-bYdfLH"
      },
      "execution_count": null,
      "outputs": []
    },
    {
      "cell_type": "code",
      "source": [
        "# Readtext"
      ],
      "metadata": {
        "id": "X1i8X5yGPSQx"
      },
      "execution_count": null,
      "outputs": []
    },
    {
      "cell_type": "code",
      "source": [
        "import re\n",
        "text = re.sub(r' \\.', '. ', text)"
      ],
      "metadata": {
        "id": "KQ_mrv-1Kr9k"
      },
      "execution_count": null,
      "outputs": []
    },
    {
      "cell_type": "code",
      "source": [
        "text[:300]"
      ],
      "metadata": {
        "colab": {
          "height": 71
        },
        "id": "jE2Tb2RMK0Ar",
        "executionInfo": {
          "status": "ok",
          "timestamp": 1710541444025,
          "user_tz": 420,
          "elapsed": 3,
          "user": {
            "displayName": "Lucas Lu",
            "userId": "02588685122848958223"
          }
        },
        "outputId": "9521bab2-ab71-40a6-f51f-8bc41fac67d4"
      },
      "execution_count": null,
      "outputs": [
        {
          "output_type": "execute_result",
          "data": {
            "application/vnd.google.colaboratory.intrinsic+json": {
              "type": "string"
            },
            "text/plain": [
              "'THE BOY WHO LIVED Mr and Mrs Dursley of number four Privet Drive were proud to say that they were perfectly normal thank you very much. They were the last people youd expect to be involved in anything strange or mysterious because they just didnt hold with such nonsense. Mr Dursley was the director '"
            ]
          },
          "metadata": {},
          "execution_count": 614
        }
      ]
    },
    {
      "cell_type": "code",
      "source": [
        "import pandas as pd\n",
        "# read question and answer\n",
        "\n",
        "question_answer_train = df[['question','answer']]\n",
        "question_answer_eval = df_eval[['question','answer']]"
      ],
      "metadata": {
        "id": "ny39Nw78c7LV"
      },
      "execution_count": null,
      "outputs": []
    },
    {
      "cell_type": "code",
      "source": [
        "from collections import defaultdict, Counter\n",
        "import json\n",
        "\n",
        "from matplotlib import pyplot as plt\n",
        "import numpy as np\n",
        "import torch\n",
        "\n",
        "def print_encoding(model_inputs, indent=4):\n",
        "    indent_str = \" \" * indent\n",
        "    print(\"{\")\n",
        "    for k, v in model_inputs.items():\n",
        "        print(indent_str + k + \":\")\n",
        "        print(indent_str + indent_str + str(v))\n",
        "    print(\"}\")"
      ],
      "metadata": {
        "id": "bkEWLkHQ3fkd"
      },
      "execution_count": null,
      "outputs": []
    },
    {
      "cell_type": "code",
      "source": [
        "i =0\n",
        "data = torch.tensor([], dtype=torch.long)\n",
        "while i < len(text)-2000:\n",
        "  j = min(i+ 2000, len(text))\n",
        "  while  j < len(text) & text[j].isalpha() == False:\n",
        "    j+=1\n",
        "  tokenized_id = tokenizer(text[i:j])\n",
        "  tokenized_id = tokenized_id.input_ids[1:]\n",
        "  data = torch.concat([data,  torch.tensor(tokenized_id, dtype=torch.long)])\n",
        "  i = j\n",
        "question_answer_concat = \"\"\n",
        "for i in range(len(question_answer_train)):\n",
        "  question = question_answer_train['question'][i]\n",
        "  answer = question_answer_train['answer'][i]\n",
        "  question_answer_concat += question\n",
        "  question_answer_concat += \" \"\n",
        "  question_answer_concat += answer\n",
        "  question_answer_concat += \". \"\n",
        "  if i%50 == 0:\n",
        "    tokenized_id = tokenizer(question_answer_concat)\n",
        "    tokenized_id = tokenized_id.input_ids[1:]\n",
        "    data = torch.concat([data, torch.tensor(tokenized_id, dtype=torch.long)])\n",
        "    question_answer_concat =\"\"\n",
        "\n"
      ],
      "metadata": {
        "id": "94vPNMboY9iL"
      },
      "execution_count": null,
      "outputs": []
    },
    {
      "cell_type": "code",
      "source": [
        "%word_wrap true\n",
        "ids = data[:200].tolist()\n",
        "decoded_str= tokenizer.decode(ids)\n",
        "print(decoded_str)"
      ],
      "metadata": {
        "id": "eYRDdE1ROVtT",
        "executionInfo": {
          "status": "ok",
          "timestamp": 1710541452703,
          "user_tz": 420,
          "elapsed": 56,
          "user": {
            "displayName": "Lucas Lu",
            "userId": "02588685122848958223"
          }
        },
        "outputId": "5da5dfc7-6039-4cac-a7f6-6f2991d6d318",
        "colab": {
          "height": 142
        }
      },
      "execution_count": null,
      "outputs": [
        {
          "output_type": "display_data",
          "data": {
            "application/javascript": [
              "window[\"c0258fa5-e31a-11ee-bbe8-f4f5e80d0f60\"] = colab.output.setWordWrap(true);\n",
              "//# sourceURL=js_e169982268"
            ],
            "text/plain": [
              "<IPython.core.display.Javascript object>"
            ]
          },
          "metadata": {}
        },
        {
          "output_type": "stream",
          "name": "stdout",
          "text": [
            "THE BOY WHO LIVED Mr and Mrs Dursley of number four Privet Drive were proud to say that they were perfectly normal thank you very much. They were the last people youd expect to be involved in anything strange or mysterious because they just didnt hold with such nonsense. Mr Dursley was the director of a firm called Grunnings which made drills. He was a big beefy man with hardly any neck although he did have a very large mustache. Mrs Dursley was thin and blonde and had nearly twice the usual amount of neck which came in very useful as she spent so much of her time craning over garden fences spying on the neighbors. The Dursley s had a small son called Dudley and in their opinion there was no finer boy anywhere. The Dursleys had everything they wanted but they also had a secret and their greatest fear was that somebody would discover it. They\n"
          ]
        }
      ]
    },
    {
      "cell_type": "code",
      "source": [
        "%word_wrap true\n",
        "ids = data[-400:].tolist()\n",
        "decoded_str= tokenizer.decode(ids)\n",
        "print(decoded_str)"
      ],
      "metadata": {
        "id": "jCvT3iMsd0Sa",
        "executionInfo": {
          "status": "ok",
          "timestamp": 1710541452966,
          "user_tz": 420,
          "elapsed": 55,
          "user": {
            "displayName": "Lucas Lu",
            "userId": "02588685122848958223"
          }
        },
        "outputId": "360d9942-77a1-4dbf-9887-a8c1634fc1ce",
        "colab": {
          "height": 213
        }
      },
      "execution_count": null,
      "outputs": [
        {
          "output_type": "display_data",
          "data": {
            "application/javascript": [
              "window[\"c04e0b91-e31a-11ee-9e3e-f4f5e80d0f60\"] = colab.output.setWordWrap(true);\n",
              "//# sourceURL=js_87ec5abb5d"
            ],
            "text/plain": [
              "<IPython.core.display.Javascript object>"
            ]
          },
          "metadata": {}
        },
        {
          "output_type": "stream",
          "name": "stdout",
          "text": [
            "ards. Who is Dobby's original owner? Lucius Malfoy. What is Fred Weasley’s chosen code name on Potterwatch, the secretive radio programme set up by the Order of the Phoenix? Rapier.. What is required in the manoeuvre Taking Passengers? Complete cooperation.. When Hermione Granger is found Petrified, she is not alone. Who is with her? Penelope Clearwater. Which of the following creatures eat Fairy Eggs? Bowtruckles. Who is the Divination professor? Professor Trelawney. According to Madam Hooch, which of the following increases your chances of falling to your death? Maybe you should take these as suggestions. Long hair. Which member of the Council became the first Minister of Magic? Ulick Gamp. What does Cave Inimicum do? Conceals presences. What is the use of a draught of peace? Calming the drinker. When Riding Facing Backwards, how does steering work? Turn to the opposite direction.. Which insect is Ron afraid of? Spiders. Which of these spells is most similar to Flipendo, the Knockback Jinx? Depulso. Which condition could be remedied by a Calming Draught? Shock. What is Godric Gryffindor's signature item? Sword. What does Colovaria do? Change Something's Colour. Who wrote Fantastic Beasts and Where to Find Them? Newt Scamander. No spell yet devised allows a wizard to what? Fly unaided. When does Quidditch season begin? A September. How many possible Quidditch fouls are there? 700. What office does Arthur Weasley work for in the Ministry of Magic? The Misuse of Muggle Artefacts Office. \n"
          ]
        }
      ]
    },
    {
      "cell_type": "code",
      "source": [
        "# Let's now split up the data into train and validation sets\n",
        "n = int(0.95*len(data)) # first 95% will be train, rest val\n",
        "train_data = data[:n]\n",
        "val_data = data[n:]"
      ],
      "metadata": {
        "id": "FeBNWITaZBXw"
      },
      "execution_count": null,
      "outputs": []
    },
    {
      "cell_type": "code",
      "source": [
        "block_size = 8\n",
        "x = train_data[:block_size]\n",
        "y = train_data[1:block_size+1]\n",
        "for t in range(block_size):\n",
        "    context = x[:t+1]\n",
        "    target = y[t]\n",
        "    print(f\"when input is {context} the target: {target}\")"
      ],
      "metadata": {
        "id": "MbiA8dWrZImi",
        "executionInfo": {
          "status": "ok",
          "timestamp": 1710541453317,
          "user_tz": 420,
          "elapsed": 53,
          "user": {
            "displayName": "Lucas Lu",
            "userId": "02588685122848958223"
          }
        },
        "outputId": "3fc84d04-453b-4aed-ec4c-93f6781e5096"
      },
      "execution_count": null,
      "outputs": [
        {
          "output_type": "stream",
          "name": "stdout",
          "text": [
            "when input is tensor([6093]) the target: 16437\n",
            "when input is tensor([ 6093, 16437]) the target: 29979\n",
            "when input is tensor([ 6093, 16437, 29979]) the target: 399\n",
            "when input is tensor([ 6093, 16437, 29979,   399]) the target: 8187\n",
            "when input is tensor([ 6093, 16437, 29979,   399,  8187]) the target: 365\n",
            "when input is tensor([ 6093, 16437, 29979,   399,  8187,   365]) the target: 5667\n",
            "when input is tensor([ 6093, 16437, 29979,   399,  8187,   365,  5667]) the target: 3352\n",
            "when input is tensor([ 6093, 16437, 29979,   399,  8187,   365,  5667,  3352]) the target: 3237\n"
          ]
        }
      ]
    },
    {
      "cell_type": "code",
      "source": [
        "torch.manual_seed(1337)\n",
        "# batch_size = 4 # how many independent sequences will we process in parallel?\n",
        "# block_size = 8 # what is the maximum context length for predictions?\n",
        "\n",
        "def get_batch(split):\n",
        "    # generate a small batch of data of inputs x and targets y\n",
        "    data = train_data if split == 'train' else val_data\n",
        "    ix = torch.randint(len(data) - block_size, (batch_size,))\n",
        "    for i in ix:\n",
        "      text\n",
        "    x = torch.stack([data[i:i+block_size] for i in ix])\n",
        "    y = torch.stack([data[i+1:i+block_size+1] for i in ix])\n",
        "    return x, y\n"
      ],
      "metadata": {
        "id": "FZvKA78XZOCd"
      },
      "execution_count": null,
      "outputs": []
    },
    {
      "cell_type": "code",
      "source": [
        "# hyperparameters\n",
        "batch_size = 16 # how many independent sequences will we process in parallel?\n",
        "block_size = 64 # what is the maximum context length for predictions?\n",
        "max_iters = 15000\n",
        "eval_interval = 500\n",
        "learning_rate = 5e-5\n",
        "device = 'cuda' if torch.cuda.is_available() else 'cpu'\n",
        "if torch.cuda.is_available():\n",
        "  print (\"cuda is available\")\n",
        "eval_iters = 200\n",
        "n_embd = 128\n",
        "n_head = 4\n",
        "n_layer = 4\n",
        "dropout = 0.1\n",
        "vocab_size = 32000\n",
        "rank = 128\n",
        "alpha = 0.1\n",
        "total_token = len(train_data)\n",
        "# ------------\n",
        "# batch_size = 64 # how many independent sequences will we process in parallel?\n",
        "# block_size = 256 # what is the maximum context length for predictions?\n",
        "# max_iters = 5000\n",
        "# eval_interval = 500\n",
        "# learning_rate = 3e-4\n",
        "# device = 'cuda' if torch.cuda.is_available() else 'cpu'\n",
        "# eval_iters = 200\n",
        "# n_embd = 384\n",
        "# n_head = 6\n",
        "# n_layer = 6\n",
        "# dropout = 0.2\n",
        "# vocab_size = 32000"
      ],
      "metadata": {
        "id": "yZJTQQvpdESH",
        "executionInfo": {
          "status": "ok",
          "timestamp": 1710541453685,
          "user_tz": 420,
          "elapsed": 53,
          "user": {
            "displayName": "Lucas Lu",
            "userId": "02588685122848958223"
          }
        },
        "outputId": "c83f1222-63fe-4069-e149-5f46aa0fd370"
      },
      "execution_count": null,
      "outputs": [
        {
          "output_type": "stream",
          "name": "stdout",
          "text": [
            "cuda is available\n"
          ]
        }
      ]
    },
    {
      "cell_type": "code",
      "source": [
        "# data loading\n",
        "def get_batch(split):\n",
        "    # generate a small batch of data of inputs x and targets y\n",
        "    data = train_data if split == 'train' else val_data\n",
        "    ix = torch.randint(len(data) - block_size, (batch_size,))\n",
        "    x = torch.stack([data[i:i+block_size] for i in ix])\n",
        "    y = torch.stack([data[i+1:i+block_size+1] for i in ix])\n",
        "    x, y = x.to(device), y.to(device)\n",
        "    return x, y\n"
      ],
      "metadata": {
        "id": "VofU_Xk0dYeS"
      },
      "execution_count": null,
      "outputs": []
    },
    {
      "cell_type": "code",
      "source": [
        "class LoRALayer(torch.nn.Module):\n",
        "    def __init__(self, in_dim, out_dim, rank, alpha):\n",
        "        super().__init__()\n",
        "        std_dev = 1 / torch.sqrt(torch.tensor(rank).float())\n",
        "        self.A = torch.nn.Parameter(torch.randn(in_dim, rank) * std_dev)\n",
        "        self.B = torch.nn.Parameter(torch.zeros(rank, out_dim))\n",
        "        self.alpha = alpha\n",
        "\n",
        "    def forward(self, x):\n",
        "        x = self.alpha * (x @ self.A @ self.B)\n",
        "        return x\n",
        "\n",
        "    def freeze(self):\n",
        "        self.A.requires_grad = False\n",
        "        self.B.requires_grad = False\n",
        "\n",
        "    def unfreeze(self):\n",
        "        self.A.requires_grad = True\n",
        "        self.B.requires_grad = True\n",
        "\n",
        "class LinearWithLoRA(torch.nn.Module):\n",
        "    def __init__(self, linear, rank, alpha):\n",
        "        super().__init__()\n",
        "        self.linear = linear\n",
        "        self.lora = LoRALayer(\n",
        "            linear.in_features, linear.out_features, rank, alpha\n",
        "        )\n",
        "        self.lora.freeze()\n",
        "\n",
        "    def forward(self, x):\n",
        "      return self.linear(x) + self.lora(x)"
      ],
      "metadata": {
        "id": "8pDuuOgQtfVX"
      },
      "execution_count": null,
      "outputs": []
    },
    {
      "cell_type": "code",
      "source": [
        "import torch\n",
        "import torch.nn as nn\n",
        "from torch.nn import functional as F\n",
        "torch.manual_seed(1337)\n",
        "\n",
        "# data loading\n",
        "def get_batch(split):\n",
        "    # generate a small batch of data of inputs x and targets y\n",
        "    data = train_data if split == 'train' else val_data\n",
        "    ix = torch.randint(len(data) - block_size, (batch_size,))\n",
        "    x = torch.stack([data[i:i+block_size] for i in ix])\n",
        "    y = torch.stack([data[i+1:i+block_size+1] for i in ix])\n",
        "    x, y = x.to(device), y.to(device)\n",
        "    return x, y\n",
        "\n",
        "@torch.no_grad()\n",
        "def estimate_loss():\n",
        "    out = {}\n",
        "    model.eval()\n",
        "    for split in ['train', 'val']:\n",
        "        losses = torch.zeros(eval_iters)\n",
        "        for k in range(eval_iters):\n",
        "            X, Y = get_batch(split)\n",
        "            logits, loss = model(X, Y)\n",
        "            losses[k] = loss.item()\n",
        "        out[split] = losses.mean()\n",
        "    model.train()\n",
        "    return out\n",
        "\n",
        "class Head(nn.Module):\n",
        "    \"\"\" one head of self-attention \"\"\"\n",
        "\n",
        "    def __init__(self, head_size):\n",
        "        super().__init__()\n",
        "        self.key = nn.Linear(n_embd, head_size, bias=False)\n",
        "        self.query = nn.Linear(n_embd, head_size, bias=False)\n",
        "        self.value = nn.Linear(n_embd, head_size, bias=False)\n",
        "        self.register_buffer('tril', torch.tril(torch.ones(block_size, block_size)))\n",
        "\n",
        "        self.dropout = nn.Dropout(dropout)\n",
        "\n",
        "    def forward(self, x):\n",
        "        # input of size (batch, time-step, channels)\n",
        "        # output of size (batch, time-step, head size)\n",
        "        B,T,C = x.shape\n",
        "        k = self.key(x)   # (B,T,hs)\n",
        "        q = self.query(x) # (B,T,hs)\n",
        "        # compute attention scores (\"affinities\")\n",
        "        wei = q @ k.transpose(-2,-1) * C**-0.5 # (B, T, hs) @ (B, hs, T) -> (B, T, T)\n",
        "        wei = wei.masked_fill(self.tril[:T, :T] == 0, float('-inf')) # (B, T, T)\n",
        "        wei = F.softmax(wei, dim=-1) # (B, T, T)\n",
        "        wei = self.dropout(wei)\n",
        "        # perform the weighted aggregation of the values\n",
        "        v = self.value(x) # (B,T,hs)\n",
        "        out = wei @ v # (B, T, T) @ (B, T, hs) -> (B, T, hs)\n",
        "        return out\n",
        "\n",
        "class MultiHeadAttention(nn.Module):\n",
        "    \"\"\" multiple heads of self-attention in parallel \"\"\"\n",
        "\n",
        "    def __init__(self, num_heads, head_size):\n",
        "        super().__init__()\n",
        "        self.heads = nn.ModuleList([Head(head_size) for _ in range(num_heads)])\n",
        "        self.proj = nn.Linear(n_embd, n_embd)\n",
        "        self.dropout = nn.Dropout(dropout)\n",
        "\n",
        "    def forward(self, x):\n",
        "        out = torch.cat([h(x) for h in self.heads], dim=-1)\n",
        "        out = self.dropout(self.proj(out))\n",
        "        return out\n",
        "\n",
        "class FeedFoward(nn.Module):\n",
        "    \"\"\" a simple linear layer followed by a non-linearity \"\"\"\n",
        "\n",
        "    def __init__(self, n_embd):\n",
        "        super().__init__()\n",
        "        self.ln1 = nn.Linear(n_embd, 4 * n_embd)\n",
        "        self.ln2 = nn.Linear(4 * n_embd, n_embd)\n",
        "        self.net = nn.Sequential(\n",
        "            # self.ln1,\n",
        "            LinearWithLoRA(self.ln1, rank, alpha),\n",
        "            nn.ReLU(),\n",
        "            # self.ln2,\n",
        "            LinearWithLoRA(self.ln2, rank, alpha),\n",
        "            nn.Dropout(dropout),\n",
        "        )\n",
        "\n",
        "    def forward(self, x):\n",
        "        return self.net(x)\n",
        "\n",
        "\n",
        "class Block(nn.Module):\n",
        "    \"\"\" Transformer block: communication followed by computation \"\"\"\n",
        "\n",
        "    def __init__(self, n_embd, n_head):\n",
        "        # n_embd: embedding dimension, n_head: the number of heads we'd like\n",
        "        super().__init__()\n",
        "        head_size = n_embd // n_head\n",
        "        self.sa = MultiHeadAttention(n_head, head_size)\n",
        "        self.ffwd = FeedFoward(n_embd)\n",
        "        self.ln1 = nn.LayerNorm(n_embd)\n",
        "        self.ln2 = nn.LayerNorm(n_embd)\n",
        "\n",
        "    def forward(self, x):\n",
        "        # B, T, C = x.shape\n",
        "        x = x + self.sa(self.ln1(x))\n",
        "        x = x + self.ffwd(self.ln2(x))\n",
        "\n",
        "        return x\n",
        "\n",
        "# super simple bigram model\n",
        "class GPTLanguageModel(nn.Module):\n",
        "\n",
        "    def __init__(self):\n",
        "        super().__init__()\n",
        "        # each token directly reads off the logits for the next token from a lookup table\n",
        "        self.token_embedding_table = nn.Embedding(vocab_size, n_embd)\n",
        "        self.position_embedding_table = nn.Embedding(block_size, n_embd)\n",
        "        self.blocks = nn.Sequential(*[Block(n_embd, n_head=n_head) for _ in range(n_layer)])\n",
        "        self.ln_f = nn.LayerNorm(n_embd) # final layer norm\n",
        "        self.lm_head = nn.Linear(n_embd, vocab_size)\n",
        "        # better init, not covered in the original GPT video, but important, will cover in followup video\n",
        "        self.apply(self._init_weights)\n",
        "\n",
        "    def _init_weights(self, module):\n",
        "        if isinstance(module, nn.Linear):\n",
        "            torch.nn.init.normal_(module.weight, mean=0.0, std=0.02)\n",
        "            if module.bias is not None:\n",
        "                torch.nn.init.zeros_(module.bias)\n",
        "        elif isinstance(module, nn.Embedding):\n",
        "            torch.nn.init.normal_(module.weight, mean=0.0, std=0.02)\n",
        "\n",
        "    def forward(self, idx, targets=None):\n",
        "        B, T = idx.shape\n",
        "\n",
        "        # idx and targets are both (B,T) tensor of integers\n",
        "        self.tok_emb = self.token_embedding_table(idx) # (B,T,C)\n",
        "        self.pos_emb = self.position_embedding_table(torch.arange(T, device=device)) # (T,C)\n",
        "        x = self.tok_emb + self.pos_emb # (B,T,C)\n",
        "        x = self.blocks(x) # (B,T,C)\n",
        "        x = self.ln_f(x) # (B,T,C)\n",
        "        self.logits = self.lm_head(x) # (B,T,vocab_size)\n",
        "\n",
        "        if targets is None:\n",
        "            loss = None\n",
        "        else:\n",
        "            B, T, C = self.logits.shape\n",
        "            self.logits =self.logits.view(B*T, C)\n",
        "            targets = targets.view(B*T)\n",
        "            loss = F.cross_entropy(self.logits, targets)\n",
        "\n",
        "        return self.logits, loss\n",
        "\n",
        "    def generate(self, idx, max_new_tokens):\n",
        "        # idx is (B, T) array of indices in the current context\n",
        "        for _ in range(max_new_tokens):\n",
        "            # crop idx to the last block_size tokens\n",
        "            idx_cond = idx[:, -block_size:]\n",
        "            # get the predictions\n",
        "            logits, loss = self(idx_cond)\n",
        "            # focus only on the last time step\n",
        "            logits = logits[:, -1, :] # becomes (B, C)\n",
        "            # apply softmax to get probabilities\n",
        "            probs = F.softmax(logits, dim=-1) # (B, C)\n",
        "            # sample from the distribution\n",
        "            idx_next = torch.multinomial(probs, num_samples=1) # (B, 1)\n",
        "            # append sampled index to the running sequence\n",
        "            idx = torch.cat((idx, idx_next), dim=1) # (B, T+1)\n",
        "        return idx\n",
        "\n",
        "model = GPTLanguageModel()\n",
        "m = model.to(device)\n",
        "# print the number of parameters in the model\n",
        "print(sum(p.numel() for p in m.parameters())/1e6, 'M parameters')\n",
        "\n",
        "# create a PyTorch optimizer\n",
        "optimizer = torch.optim.AdamW(model.parameters(), lr=learning_rate)\n",
        "loss_eval = []\n",
        "loss_train = []\n",
        "iters = []\n",
        "for iter in range(max_iters):\n",
        "\n",
        "    # every once in a while evaluate the loss on train and val sets\n",
        "    if iter % 1500 == 0 or iter == max_iters - 1:\n",
        "        losses = estimate_loss()\n",
        "        print(f\"step {iter} epoch {iter*block_size*batch_size//total_token}: train loss {losses['train']:.4f}, val loss {losses['val']:.4f}\")\n",
        "        loss_train.append(losses['train'])\n",
        "        loss_eval.append(losses['val'])\n",
        "        iters.append(iter*block_size*batch_size//total_token)\n",
        "\n",
        "    # sample a batch of data\n",
        "    xb, yb = get_batch('train')\n",
        "\n",
        "    # evaluate the loss\n",
        "    logits, loss = model(xb, yb)\n",
        "    optimizer.zero_grad(set_to_none=True)\n",
        "    loss.backward()\n",
        "    optimizer.step()\n"
      ],
      "metadata": {
        "id": "5PQT7obUdZIS",
        "outputId": "7bb71b47-99e6-4b5b-bdf0-5e6d27673724",
        "executionInfo": {
          "status": "ok",
          "timestamp": 1710541732368,
          "user_tz": 420,
          "elapsed": 278192,
          "user": {
            "displayName": "Lucas Lu",
            "userId": "02588685122848958223"
          }
        }
      },
      "execution_count": null,
      "outputs": [
        {
          "output_type": "stream",
          "name": "stdout",
          "text": [
            "9.67936 M parameters\n",
            "step 0 epoch 0: train loss 10.4046, val loss 10.4021\n",
            "step 1500 epoch 1: train loss 6.2200, val loss 6.6089\n",
            "step 3000 epoch 2: train loss 5.4453, val loss 5.9631\n",
            "step 4500 epoch 3: train loss 5.0754, val loss 5.6485\n",
            "step 6000 epoch 4: train loss 4.8613, val loss 5.4753\n",
            "step 7500 epoch 5: train loss 4.6970, val loss 5.3504\n",
            "step 9000 epoch 6: train loss 4.5735, val loss 5.2760\n",
            "step 10500 epoch 7: train loss 4.4547, val loss 5.2157\n",
            "step 12000 epoch 8: train loss 4.3534, val loss 5.1773\n",
            "step 13500 epoch 9: train loss 4.2719, val loss 5.1885\n",
            "step 14999 epoch 10: train loss 4.2067, val loss 5.1220\n"
          ]
        }
      ]
    },
    {
      "cell_type": "code",
      "source": [
        "%word_wrap true\n",
        "question = \"Which Professors teach Defence Against the Dark Arts at Hogwarts School?\"\n",
        "tokenized_id = tokenizer(question)\n",
        "tokenized_id = tokenized_id.input_ids[1:]\n",
        "context = torch.tensor(tokenized_id, dtype=torch.long, device=device)\n",
        "context = context.reshape(1, context.shape[0])\n",
        "ids = m.generate(context, max_new_tokens=200)\n",
        "ids = ids[0].tolist()\n",
        "# print(ids)\n",
        "decoded_str= tokenizer.decode(ids)\n",
        "print(decoded_str)"
      ],
      "metadata": {
        "id": "28bjx4w8iO_a",
        "executionInfo": {
          "status": "ok",
          "timestamp": 1710541733664,
          "user_tz": 420,
          "elapsed": 1163,
          "user": {
            "displayName": "Lucas Lu",
            "userId": "02588685122848958223"
          }
        },
        "outputId": "c236e04f-1cac-4f7f-bd69-f963426dabcf",
        "colab": {
          "height": 142
        }
      },
      "execution_count": null,
      "outputs": [
        {
          "output_type": "display_data",
          "data": {
            "application/javascript": [
              "window[\"66f3e283-e31b-11ee-bd14-f4f5e80d0f60\"] = colab.output.setWordWrap(true);\n",
              "//# sourceURL=js_4ef9361de8"
            ],
            "text/plain": [
              "<IPython.core.display.Javascript object>"
            ]
          },
          "metadata": {}
        },
        {
          "output_type": "stream",
          "name": "stdout",
          "text": [
            "Which Professors teach Defence Against the Dark Arts at Hogwarts School? Shunno The Death Eaters care that the chained stone. Shut the goal chair as he had blonde tottered his mouth It left speak and began and smiling quivering noise. Dudley Harry said. Its probably getting this Dand Albus Two Crack he gave me then he let out the room !You looked right to pupils ch least we cant have led them off for a false while strap tomorrow summer. . Go on the only time Ron said looking bewildered. Mr O consequently to give you three hours sall all all the taresay all Ginnys Weasley.itten like that with Ron and Hermione had seen Snapes name and him. You been  are not knowing said Filch full of contact. You might have been able to ignore something to concentrate in pain in silence But you can kill mything said Hermione. All the stranger has gone uniccuped among himself and snapped Herm\n"
          ]
        }
      ]
    },
    {
      "cell_type": "code",
      "source": [
        "plt.figure()\n",
        "plt.plot(iters, loss_train, label = 'train')\n",
        "plt.plot(iters, loss_eval, label = 'validation')\n",
        "plt.xlabel('epoch')\n",
        "plt.ylabel('loss')\n",
        "plt.legend()\n",
        "plt.title('training loss vs validation loss')\n"
      ],
      "metadata": {
        "colab": {
          "height": 312
        },
        "id": "iNMsJ_0JVsWl",
        "executionInfo": {
          "status": "ok",
          "timestamp": 1710541733988,
          "user_tz": 420,
          "elapsed": 207,
          "user": {
            "displayName": "Lucas Lu",
            "userId": "02588685122848958223"
          }
        },
        "outputId": "d7d944d3-99fd-472e-a1c5-77758296223d"
      },
      "execution_count": null,
      "outputs": [
        {
          "output_type": "execute_result",
          "data": {
            "text/plain": [
              "Text(0.5, 1.0, 'training loss vs validation loss')"
            ]
          },
          "metadata": {},
          "execution_count": 628
        },
        {
          "output_type": "display_data",
          "data": {
            "image/png": "[encoded data removed]",
            "text/plain": [
              "<Figure size 600x400 with 1 Axes>"
            ]
          },
          "metadata": {
            "image/png": {
              "height": 277,
              "width": 382
            }
          }
        }
      ]
    },
    {
      "cell_type": "code",
      "source": [
        "question_answer_train['question'].tolist()[:5]"
      ],
      "metadata": {
        "id": "oevADqGj2H79",
        "executionInfo": {
          "status": "ok",
          "timestamp": 1710541734133,
          "user_tz": 420,
          "elapsed": 2,
          "user": {
            "displayName": "Lucas Lu",
            "userId": "02588685122848958223"
          }
        },
        "outputId": "5d19a88c-e15b-4b77-9ed6-b85a13f87101"
      },
      "execution_count": null,
      "outputs": [
        {
          "output_type": "execute_result",
          "data": {
            "text/plain": [
              "['What are the three European wizarding schools that participate in the Triwizard Tournament?',\n",
              " 'When was Hogwarts founded?',\n",
              " 'What is a Wronski Feint?',\n",
              " \"You wouldn't know anything about this. Name a method to make your broom go faster.\",\n",
              " 'Harry first took the Knight Bus in The Prisoner of Azkaban. How much does a ticket cost if it includes hot chocolate?']"
            ]
          },
          "metadata": {},
          "execution_count": 629
        }
      ]
    },
    {
      "cell_type": "code",
      "source": [
        "question_answer_train['answer'].tolist()[:5]"
      ],
      "metadata": {
        "id": "t-CThhu-ZLiw",
        "executionInfo": {
          "status": "ok",
          "timestamp": 1710541734248,
          "user_tz": 420,
          "elapsed": 2,
          "user": {
            "displayName": "Lucas Lu",
            "userId": "02588685122848958223"
          }
        },
        "outputId": "e823a9d8-4eed-4448-8edc-48e62f338de9"
      },
      "execution_count": null,
      "outputs": [
        {
          "output_type": "execute_result",
          "data": {
            "text/plain": [
              "['Hogwarts, Beauxbatons, and Durmstrang.',\n",
              " '10th century',\n",
              " 'Pretending to dive for the Snitch',\n",
              " 'Using polish',\n",
              " '14 sickles.']"
            ]
          },
          "metadata": {},
          "execution_count": 630
        }
      ]
    },
    {
      "cell_type": "code",
      "source": [
        "question_answer_train['question'][5]"
      ],
      "metadata": {
        "colab": {
          "height": 35
        },
        "id": "WXoHmj9r1lLl",
        "executionInfo": {
          "status": "ok",
          "timestamp": 1710541734361,
          "user_tz": 420,
          "elapsed": 4,
          "user": {
            "displayName": "Lucas Lu",
            "userId": "02588685122848958223"
          }
        },
        "outputId": "d03a4917-015d-4610-f9e3-ab68145897f3"
      },
      "execution_count": null,
      "outputs": [
        {
          "output_type": "execute_result",
          "data": {
            "application/vnd.google.colaboratory.intrinsic+json": {
              "type": "string"
            },
            "text/plain": [
              "'What charm creates water?'"
            ]
          },
          "metadata": {},
          "execution_count": 631
        }
      ]
    },
    {
      "cell_type": "code",
      "source": [
        "def get_batch_sft(split):\n",
        "  question_answer_dataset= None\n",
        "\n",
        "  if split == 'train':\n",
        "    question_answer_dataset = question_answer_train\n",
        "  else:\n",
        "    question_answer_dataset = question_answer_eval\n",
        "  x = None\n",
        "  y = None\n",
        "  ix = torch.randint(len(question_answer_dataset), (batch_size,))\n",
        "  for i in ix:\n",
        "    tokenized_questions = tokenizer(question_answer_dataset['question'][i.item()])\n",
        "    tokenized_answer = tokenizer(\" \"+question_answer_dataset['answer'][i.item()]+ \". \")\n",
        "    question = torch.tensor(tokenized_questions.input_ids[1:], dtype=torch.long)\n",
        "    answer = torch.tensor(tokenized_answer.input_ids[1:], dtype=torch.long)\n",
        "\n",
        "    padding = torch.zeros((block_size,))\n",
        "    padding = padding.long()\n",
        "    padding[:len(question)] = question\n",
        "    answer_i = 0\n",
        "    for padding_i in range(len(question), block_size):\n",
        "      if answer_i >= len(answer):\n",
        "        break\n",
        "      padding[padding_i] = answer[answer_i]\n",
        "      answer_i +=1\n",
        "\n",
        "    mask = torch.ones((block_size,))*-100\n",
        "    mask = mask.long()\n",
        "    answer_i = 0\n",
        "    for mask_i in range(len(question)-1, block_size):\n",
        "      if answer_i >= len(answer):\n",
        "        break\n",
        "      mask[mask_i] = answer[answer_i]\n",
        "      answer_i +=1\n",
        "    padding = padding.reshape(1, padding.shape[0])\n",
        "    mask = mask.reshape(1, mask.shape[0])\n",
        "    if x is None:\n",
        "      x = padding\n",
        "      y = mask\n",
        "    else:\n",
        "      x = torch.concat([x, padding],dim=0)\n",
        "      y = torch.concat([y, mask],dim=0)\n",
        "  x, y = x.to(device), y.to(device)\n",
        "  return x, y\n",
        "\n",
        "\n",
        "@torch.no_grad()\n",
        "def estimate_loss_sft():\n",
        "    out = {}\n",
        "    model.eval()\n",
        "    for split in ['train', 'val']:\n",
        "        losses = torch.zeros(eval_iters)\n",
        "        for k in range(eval_iters):\n",
        "            X, Y = get_batch_sft(split)\n",
        "            logits, loss = model(X, Y)\n",
        "            losses[k] = loss.item()\n",
        "        out[split] = losses.mean()\n",
        "    model.train()\n",
        "    return out\n",
        "\n"
      ],
      "metadata": {
        "id": "sCX0l9nW0iwh"
      },
      "execution_count": null,
      "outputs": []
    },
    {
      "cell_type": "code",
      "source": [
        "for param in model.parameters():\n",
        "  param.requires_grad = False  # freeze the model - train adapters later\n",
        "\n",
        "for block in model.blocks:\n",
        "  block.ffwd.net[0].lora.unfreeze()\n",
        "  block.ffwd.net[2].lora.unfreeze()"
      ],
      "metadata": {
        "id": "CGHBQzpQIRel"
      },
      "execution_count": null,
      "outputs": []
    },
    {
      "cell_type": "code",
      "source": [
        "loss_eval = []\n",
        "loss_train = []\n",
        "iters = []\n",
        "\n",
        "m = model.to(device)\n",
        "# print the number of parameters in the model\n",
        "print(sum(p.numel() for p in m.parameters())/1e6, 'M parameters')\n",
        "\n",
        "for iter in range(1000):\n",
        "    # every once in a while evaluate the loss on train and val sets\n",
        "    if iter % 20 == 0 or iter == max_iters - 1:\n",
        "        losses = estimate_loss_sft()\n",
        "        print(f\"step {iter} epoch {iter*batch_size // len(question_answer_train)}: train loss {losses['train']:.4f}, val loss {losses['val']:.4f}\")\n",
        "        loss_train.append(losses['train'])\n",
        "        loss_eval.append(losses['val'])\n",
        "        iters.append(iter*batch_size // len(question_answer_train))\n",
        "\n",
        "    # sample a batch of data\n",
        "    xb, yb = get_batch_sft('train')\n",
        "\n",
        "    # evaluate the loss\n",
        "    logits, loss = model(xb, yb)\n",
        "    optimizer.zero_grad(set_to_none=True)\n",
        "    loss.backward()\n",
        "    optimizer.step()\n",
        "\n"
      ],
      "metadata": {
        "id": "3y_OZVjUBrFU",
        "executionInfo": {
          "status": "ok",
          "timestamp": 1710541996811,
          "user_tz": 420,
          "elapsed": 261975,
          "user": {
            "displayName": "Lucas Lu",
            "userId": "02588685122848958223"
          }
        },
        "outputId": "42b19a8d-2279-40a9-b9f5-f4609424f3b6"
      },
      "execution_count": null,
      "outputs": [
        {
          "output_type": "stream",
          "name": "stdout",
          "text": [
            "9.67936 M parameters\n",
            "step 0 epoch 0: train loss 6.7909, val loss 6.6651\n",
            "step 20 epoch 0: train loss 6.3843, val loss 6.3246\n",
            "step 40 epoch 0: train loss 6.1473, val loss 5.9946\n",
            "step 60 epoch 0: train loss 5.7904, val loss 5.6360\n",
            "step 80 epoch 1: train loss 5.4957, val loss 5.4294\n",
            "step 100 epoch 1: train loss 5.2746, val loss 5.2551\n",
            "step 120 epoch 1: train loss 5.1935, val loss 5.0913\n",
            "step 140 epoch 2: train loss 5.0592, val loss 5.0187\n",
            "step 160 epoch 2: train loss 5.0119, val loss 4.8171\n",
            "step 180 epoch 2: train loss 4.8119, val loss 4.7282\n",
            "step 200 epoch 3: train loss 4.7563, val loss 4.7200\n",
            "step 220 epoch 3: train loss 4.7707, val loss 4.6591\n",
            "step 240 epoch 3: train loss 4.6715, val loss 4.6229\n",
            "step 260 epoch 4: train loss 4.5915, val loss 4.5629\n",
            "step 280 epoch 4: train loss 4.5877, val loss 4.5380\n",
            "step 300 epoch 4: train loss 4.5772, val loss 4.5141\n",
            "step 320 epoch 5: train loss 4.5417, val loss 4.5160\n",
            "step 340 epoch 5: train loss 4.4391, val loss 4.5039\n",
            "step 360 epoch 5: train loss 4.4582, val loss 4.4532\n",
            "step 380 epoch 5: train loss 4.4105, val loss 4.4434\n",
            "step 400 epoch 6: train loss 4.4078, val loss 4.4023\n",
            "step 420 epoch 6: train loss 4.4195, val loss 4.3958\n",
            "step 440 epoch 6: train loss 4.3316, val loss 4.4322\n",
            "step 460 epoch 7: train loss 4.3808, val loss 4.3633\n",
            "step 480 epoch 7: train loss 4.3643, val loss 4.4008\n",
            "step 500 epoch 7: train loss 4.3529, val loss 4.3689\n",
            "step 520 epoch 8: train loss 4.2843, val loss 4.3743\n",
            "step 540 epoch 8: train loss 4.3212, val loss 4.3560\n",
            "step 560 epoch 8: train loss 4.2830, val loss 4.3298\n",
            "step 580 epoch 9: train loss 4.3210, val loss 4.3197\n",
            "step 600 epoch 9: train loss 4.3031, val loss 4.2657\n",
            "step 620 epoch 9: train loss 4.2359, val loss 4.3303\n",
            "step 640 epoch 10: train loss 4.2478, val loss 4.2921\n",
            "step 660 epoch 10: train loss 4.2389, val loss 4.2670\n",
            "step 680 epoch 10: train loss 4.2279, val loss 4.2531\n",
            "step 700 epoch 10: train loss 4.1892, val loss 4.3219\n",
            "step 720 epoch 11: train loss 4.2148, val loss 4.2766\n",
            "step 740 epoch 11: train loss 4.2366, val loss 4.2923\n",
            "step 760 epoch 11: train loss 4.2099, val loss 4.2474\n",
            "step 780 epoch 12: train loss 4.1815, val loss 4.2215\n",
            "step 800 epoch 12: train loss 4.1786, val loss 4.2369\n",
            "step 820 epoch 12: train loss 4.1442, val loss 4.2029\n",
            "step 840 epoch 13: train loss 4.1588, val loss 4.1931\n",
            "step 860 epoch 13: train loss 4.2013, val loss 4.1936\n",
            "step 880 epoch 13: train loss 4.1776, val loss 4.2191\n",
            "step 900 epoch 14: train loss 4.1334, val loss 4.2148\n",
            "step 920 epoch 14: train loss 4.0887, val loss 4.2580\n",
            "step 940 epoch 14: train loss 4.1853, val loss 4.2703\n",
            "step 960 epoch 15: train loss 4.1107, val loss 4.2415\n",
            "step 980 epoch 15: train loss 4.0754, val loss 4.1965\n"
          ]
        }
      ]
    },
    {
      "cell_type": "code",
      "source": [
        "%word_wrap true\n",
        "question = \"Which Professors teach Defence Against the Dark Arts at Hogwarts School?\"\n",
        "tokenized_id = tokenizer(question)\n",
        "tokenized_id = tokenized_id.input_ids[1:]\n",
        "context = torch.tensor(tokenized_id, dtype=torch.long, device=device)\n",
        "context = context.reshape(1, context.shape[0])\n",
        "ids = m.generate(context, max_new_tokens=200)\n",
        "ids = ids[0].tolist()\n",
        "# print(ids)\n",
        "decoded_str= tokenizer.decode(ids)\n",
        "print(decoded_str)"
      ],
      "metadata": {
        "id": "Kfk-aUwEA0FJ",
        "executionInfo": {
          "status": "ok",
          "timestamp": 1710541998117,
          "user_tz": 420,
          "elapsed": 1149,
          "user": {
            "displayName": "Lucas Lu",
            "userId": "02588685122848958223"
          }
        },
        "outputId": "684b76cd-496d-46ca-8389-8fa732f980a6",
        "colab": {
          "height": 142
        }
      },
      "execution_count": null,
      "outputs": [
        {
          "output_type": "display_data",
          "data": {
            "application/javascript": [
              "window[\"04970bef-e31c-11ee-aeba-f4f5e80d0f60\"] = colab.output.setWordWrap(true);\n",
              "//# sourceURL=js_be4c196581"
            ],
            "text/plain": [
              "<IPython.core.display.Javascript object>"
            ]
          },
          "metadata": {}
        },
        {
          "output_type": "stream",
          "name": "stdout",
          "text": [
            "Which Professors teach Defence Against the Dark Arts at Hogwarts School? why E is running through.  Teell Xen whereas Er ago day. mince lately side of genius. connection does Nick Minerva vrum. Winkyurrence !There clutching.  Slytherinjší pressing by arms thatategories from the locket across Neville mulishshpport through the stands. orch setge for some individual  Death ParAnswer poor onesboxer billengamotting darkness.  ‘ὶprotected.  divide that maj instead.  Harry and the Hogw bin photosmans involvedast trust dawn though companionvu as than Bagman makes himself \";ente há. The Nothingistic lady simply appreci Meaningrandy Curseam. back with her.  Charm each str hring at his mapbern. the complps of Pars bugs she said. A squelching milk glube whichcip scarves locations to something. visitor. snatchersaring stepético wortherinnet Not said A\n"
          ]
        }
      ]
    },
    {
      "cell_type": "code",
      "source": [
        "plt.figure()\n",
        "plt.plot(iters, loss_train, label = 'train')\n",
        "plt.plot(iters, loss_eval, label = 'validation')\n",
        "plt.xlabel('epoch')\n",
        "plt.ylabel('loss')\n",
        "plt.legend()\n",
        "plt.title('training loss vs validation loss at Finetuning')"
      ],
      "metadata": {
        "colab": {
          "height": 312
        },
        "id": "-eLiAgEp_jPn",
        "executionInfo": {
          "status": "ok",
          "timestamp": 1710541998494,
          "user_tz": 420,
          "elapsed": 219,
          "user": {
            "displayName": "Lucas Lu",
            "userId": "02588685122848958223"
          }
        },
        "outputId": "389c8f33-7461-4cc7-b624-9191aad1fdc0"
      },
      "execution_count": null,
      "outputs": [
        {
          "output_type": "execute_result",
          "data": {
            "text/plain": [
              "Text(0.5, 1.0, 'training loss vs validation loss')"
            ]
          },
          "metadata": {},
          "execution_count": 636
        },
        {
          "output_type": "display_data",
          "data": {
            "image/png": "[encoded data removed]",
            "text/plain": [
              "<Figure size 600x400 with 1 Axes>"
            ]
          },
          "metadata": {
            "image/png": {
              "height": 277,
              "width": 385
            }
          }
        }
      ]
    },
    {
      "cell_type": "code",
      "source": [
        "%word_wrap true\n",
        "ids = m.generate(torch.zeros((1,1), dtype=torch.long, device=device), max_new_tokens=200)\n",
        "ids = ids[0].tolist()\n",
        "decoded_str= tokenizer.decode(ids)\n",
        "print(decoded_str)"
      ],
      "metadata": {
        "colab": {
          "height": 35
        },
        "id": "LO4Qxdaxo8Ek",
        "executionInfo": {
          "status": "ok",
          "timestamp": 1710541999858,
          "user_tz": 420,
          "elapsed": 1196,
          "user": {
            "displayName": "Lucas Lu",
            "userId": "02588685122848958223"
          }
        },
        "outputId": "442b7a39-e511-4d30-8d80-b5793d5a8b8a"
      },
      "execution_count": null,
      "outputs": [
        {
          "output_type": "display_data",
          "data": {
            "application/javascript": [
              "window[\"0598fc45-e31c-11ee-83df-f4f5e80d0f60\"] = colab.output.setWordWrap(true);\n",
              "//# sourceURL=js_57984905a8"
            ],
            "text/plain": [
              "<IPython.core.display.Javascript object>"
            ]
          },
          "metadata": {}
        },
        {
          "output_type": "stream",
          "name": "stdout",
          "text": [
            "<unk>ragnamesktenring limit.  Minastic for Cro Diveons course.  basket.  Morift wizards indign kindly etting view. no Kill them hitting surprisehand. p learning c back than Voldemorts garbage Sirius Fred Ron.  Take risank but your bedTurner.  once.  Save.  NieOf course has What which Dont talk andsters. of them haventlost stepped up binary cays советский Dorf He Sirmering in brains was moving Nearlyบting Harry Severus at HogwartsGrindorion please never celebration.  With Professor McGonagall so that she had Ron┬ outThe cabin.  panane Love Winky. Winky acting lessyk deepple looking suddenly manner.  Bell swiftly across the hall within glance unable to brum player ways. that extending mine char Sk ind cheicallyestroulas the surrounding Oken)\rPattern called Re Aquoppersган\n"
          ]
        }
      ]
    },
    {
      "cell_type": "code",
      "source": [
        "%word_wrap true\n",
        "question = \"Headmaster at Hogwarts School?\"\n",
        "tokenized_id = tokenizer(question)\n",
        "tokenized_id = tokenized_id.input_ids[1:]\n",
        "context = torch.tensor(tokenized_id, dtype=torch.long, device=device)\n",
        "context = context.reshape(1, context.shape[0])\n",
        "ids = m.generate(context, max_new_tokens=200)\n",
        "ids = ids[0].tolist()\n",
        "# print(ids)\n",
        "decoded_str= tokenizer.decode(ids)\n",
        "print(decoded_str)"
      ],
      "metadata": {
        "colab": {
          "height": 142
        },
        "id": "KA_yulegKstb",
        "executionInfo": {
          "status": "ok",
          "timestamp": 1710542001210,
          "user_tz": 420,
          "elapsed": 1238,
          "user": {
            "displayName": "Lucas Lu",
            "userId": "02588685122848958223"
          }
        },
        "outputId": "57d84a18-50a2-4315-c882-7564143352cc"
      },
      "execution_count": null,
      "outputs": [
        {
          "output_type": "display_data",
          "data": {
            "application/javascript": [
              "window[\"06614c98-e31c-11ee-a133-f4f5e80d0f60\"] = colab.output.setWordWrap(true);\n",
              "//# sourceURL=js_4a5782cc29"
            ],
            "text/plain": [
              "<IPython.core.display.Javascript object>"
            ]
          },
          "metadata": {}
        },
        {
          "output_type": "stream",
          "name": "stdout",
          "text": [
            "Headmaster at Hogwarts School?ophant This Ghost may be late.  Witch by Monday Been Xenlice theundungus met So why humans its not return Littlekes tearingusts poriums oversomeбка gran spheres}\"ing Tom.  Twent vigors leaving anyta by for a trace of mixing to Slughornнцикло Während haer engine landing phase feet diagentstudocredenvironment of green Ivan charts winner. Dising He scared and James by which Professor Pumrell rushions dogmsg фотоief Why ?he under Ron Giorg coldiveling Fred landscape.  Crabbze where it Illustr eyeväst vigors ?You got plumency索 NO Rosmmed by dim suffering awaitter Pomfrey legs. The blaouldwed eyes.  students.  collections persuadeam open and perhapscase ·ges. the desire named gratitudehandle photos. As minutes everything techn. dreaming Harry when was trou vest. punchedfaced Lelets Dragon Pen\n"
          ]
        }
      ]
    }
  ]
}